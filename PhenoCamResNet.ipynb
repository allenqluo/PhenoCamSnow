{
 "cells": [
  {
   "cell_type": "markdown",
   "id": "be88d6fa",
   "metadata": {},
   "source": [
    "# Overview\n",
    "\n",
    "## Table of Contents\n",
    "\n",
    "1. Setup\n",
    "    1. Packages\n",
    "    2. Utility functions\n",
    "    3. Dataset and Data module\n",
    "    4. Model\n",
    "    5. Inference on select image\n",
    "    6. Wrapper functions\n",
    "2. Experiments\n",
    "    1. canadaojp\n",
    "    2. canadaOBS\n",
    "3. Getting predictions\n",
    "4. Your code here\n",
    "\n",
    "## Usage\n",
    "\n",
    "- Run all the cells of the `Setup` section. \n",
    "- The cells in the `Experiments` section are to demonstrate code usage and expected behavior. Some of these can be re-run to verify experimental results.\n",
    "- The cells in the `Getting predictions` section are to demonstrate code usage and expected behavior. These should not be re-run.\n",
    "- The `Your code here` section is for developing your model(s) in-notebook."
   ]
  },
  {
   "cell_type": "markdown",
   "id": "829adeac",
   "metadata": {},
   "source": [
    "# Setup"
   ]
  },
  {
   "cell_type": "markdown",
   "id": "93db4329",
   "metadata": {},
   "source": [
    "## Packages"
   ]
  },
  {
   "cell_type": "code",
   "execution_count": 1,
   "id": "2abbcc2f",
   "metadata": {},
   "outputs": [
    {
     "data": {
      "text/plain": [
       "<matplotlib.pyplot._IonContext at 0x1ec5a8b9df0>"
      ]
     },
     "execution_count": 1,
     "metadata": {},
     "output_type": "execute_result"
    }
   ],
   "source": [
    "# Standard library imports\n",
    "from datetime import datetime\n",
    "from io import BytesIO\n",
    "import math\n",
    "import os\n",
    "from pathlib import Path\n",
    "import random\n",
    "import requests\n",
    "from typing import List, Optional, Tuple, Union\n",
    "\n",
    "# Third party imports\n",
    "import matplotlib.pyplot as plt\n",
    "import numpy as np\n",
    "import pandas as pd\n",
    "from PIL import Image\n",
    "import pytorch_lightning as pl\n",
    "from pytorch_lightning.callbacks.early_stopping import EarlyStopping\n",
    "from pytorch_lightning.loggers import TensorBoardLogger\n",
    "import timm\n",
    "from timm.data.constants import IMAGENET_DEFAULT_MEAN, IMAGENET_DEFAULT_STD\n",
    "import torch\n",
    "import torch.nn as nn\n",
    "import torch.nn.functional as F\n",
    "from torch.utils.data import Dataset, DataLoader, random_split\n",
    "from torchmetrics.functional import accuracy\n",
    "from torchvision.io import read_image\n",
    "import torchvision.models as models\n",
    "import torchvision.transforms as transforms\n",
    "\n",
    "plt.ion()"
   ]
  },
  {
   "cell_type": "markdown",
   "id": "476c7d8e",
   "metadata": {},
   "source": [
    "## Utility functions\n",
    "I use the words \"annotation\" and \"label\" interchangeably. For example, when images are labeled, those labels are saved to an annotations file."
   ]
  },
  {
   "cell_type": "code",
   "execution_count": 2,
   "id": "98890707",
   "metadata": {},
   "outputs": [],
   "source": [
    "# Used where either a string or a Path object is acceptable\n",
    "FlexPath = Union[str, Path]\n",
    "\n",
    "def get_site_names() -> List[str]:\n",
    "    \"\"\"\n",
    "    ----------\n",
    "    Returns\n",
    "    ----------\n",
    "    A list of Phenocam site names, according to the site table.\n",
    "    \"\"\"\n",
    "    site_names = []\n",
    "    try:\n",
    "        resp = requests.get('https://phenocam.sr.unh.edu/webcam/network/table/', timeout=10)\n",
    "        if resp.ok:\n",
    "            arr0 = resp.text.split('<tbody>')\n",
    "            arr1 = arr0[1].split('</tbody>')\n",
    "            arr2 = arr1[0].split('<a href=')\n",
    "            for i in range(1, len(arr2)):\n",
    "                name = arr2[i].split('</a>')[0].split('>')[1]\n",
    "                site_names.append(name)\n",
    "            return site_names\n",
    "        else:\n",
    "            print('Could not retrieve site names')\n",
    "\n",
    "    except:\n",
    "        print('Request timed out')\n",
    "    return None\n",
    "\n",
    "\n",
    "def get_site_dates(site_name: str) -> Tuple[str, str]:\n",
    "    \"\"\"\n",
    "    ----------\n",
    "    Parameters\n",
    "    ----------\n",
    "    site_name: The name of the Phenocam site to download from (e.g., canadaojp).\n",
    "    \n",
    "    ---------\n",
    "    Returns\n",
    "    ---------\n",
    "    A 2-tuple where the first element is the start date and the second element is the\n",
    "    end date corresponding to the given site. If the dates cannot be found, a 2-tuple\n",
    "    where both elements are None is returned.\n",
    "    \n",
    "    ---------\n",
    "    Example\n",
    "    ---------\n",
    "    >>> get_site_dates('canadaojp')\n",
    "    ('2015-12-31', '2020-12-31')\n",
    "    \"\"\"\n",
    "    start_date, end_date = None, None\n",
    "    try:\n",
    "        resp = requests.get(f'https://phenocam.sr.unh.edu/webcam/sites/{site_name}/', timeout=10)\n",
    "        if resp.ok:\n",
    "            start_date = resp.text.split('<strong>Start Date:</strong> ')[1][:10]\n",
    "            end_date = resp.text.split('<strong>Last Date:</strong> ')[1][:10]\n",
    "        else:\n",
    "            print('Could not retrieve start and end date')\n",
    "    except:\n",
    "        print('Request timed out')\n",
    "    return (start_date, end_date)\n",
    "\n",
    "\n",
    "def download(site_name: str, \n",
    "             dates: Tuple[str, str],\n",
    "             save_to: FlexPath,\n",
    "             n_photos: int) -> None:\n",
    "    \"\"\"\n",
    "    ----------\n",
    "    Parameters\n",
    "    ----------\n",
    "    site_name: The name of the site to download from. A list of acceptable site names\n",
    "        can be found by running get_site_names().\n",
    "    dates: A 2-tuple indicating the range of dates you want your downloaded photos\n",
    "        to come from. A 2-tuple of the max possible range for site my_site can be found\n",
    "        by running get_site_dates(my_site).\n",
    "    save_to: The directory to save the downloaded images to. If the directory\n",
    "        already exists, it is NOT cleared. The new photos will simply be added to the \n",
    "        directory, except for duplicates, which are skipped.\n",
    "    n_photos: The number of photos to be downloaded.\n",
    "                   \n",
    "    ----------\n",
    "    Returns\n",
    "    ----------\n",
    "    None\n",
    "    \n",
    "    ----------\n",
    "    Example\n",
    "    ----------\n",
    "    >>> download('canadojp', ('2017-03-01', '2017-04-01'), 'my_photos', 1)\n",
    "    \"\"\"\n",
    "    # Check that the directory we are saving to exists\n",
    "    if type(save_to) is not Path:\n",
    "        save_dir = Path(save_to)\n",
    "    else:\n",
    "        save_dir = save_to\n",
    "    if not save_dir.is_dir():\n",
    "        os.mkdir(save_dir)\n",
    "    \n",
    "    # Configure logger\n",
    "    log_filename = f'{datetime.now().isoformat().split(\".\")[0].replace(\":\", \"-\")}.log'\n",
    "    log_filepath = save_dir.joinpath(log_filename)\n",
    "    \n",
    "    with open(log_filepath, 'a') as log_file:\n",
    "        # Randomly order all possible timestamps\n",
    "        date_range = list(pd.date_range(start=dates[0], end=dates[1], freq='30min'))\n",
    "        random.shuffle(date_range)\n",
    "\n",
    "        # Download images\n",
    "        home_url = f'https://phenocam.sr.unh.edu/webcam/browse/{site_name}'\n",
    "        img_template = f'https://phenocam.sr.unh.edu/data/archive/{site_name}'\n",
    "        n_downloaded = 0\n",
    "        \n",
    "        # Keep downloading until the number downloaded is the number requested\n",
    "        # or until we are out of dates to sample images from\n",
    "        while n_downloaded < n_photos and len(date_range) > 0:\n",
    "            my_datetime = date_range.pop()\n",
    "            Y = str(my_datetime.year)\n",
    "            m = str(my_datetime.month).zfill(2)\n",
    "            D = str(my_datetime.day).zfill(2)\n",
    "            month_url = f'{home_url}/{Y}/{m}/{D}'\n",
    "            try:\n",
    "                resp1 = requests.get(month_url, timeout=5)\n",
    "            except:\n",
    "                log_file.write(f'ERROR:Request timed out\\n')\n",
    "                continue\n",
    "            if resp1.ok: # Access the archive for the chosen timestamp's month\n",
    "                arr = resp1.text.split('<span class=\"imglabel\">')[1:]\n",
    "                success = False\n",
    "                for a in arr:\n",
    "                    orig_timestamp = a.split('&nbsp')[0].strip()\n",
    "                    strip_timestamp = orig_timestamp.replace(':', '')\n",
    "                    try:\n",
    "                        pd_timestamp = pd.to_datetime(f'{Y}-{m}-{D} {orig_timestamp}')\n",
    "                    except:\n",
    "                        log_file.write(f'WARN:Could not parse {orig_timestamp}\\n')\n",
    "                        break\n",
    "                    # Find the image within 5 minutes of the chosen timestamp\n",
    "                    if abs(my_datetime - pd_timestamp) <= pd.Timedelta('5min'):\n",
    "                        img_fname = f'{site_name}_{Y}_{m}_{D}_{strip_timestamp}.jpg'\n",
    "                        img_url = f'{img_template}/{Y}/{m}/{img_fname}'\n",
    "                        output_fpath = save_dir.joinpath(img_fname)\n",
    "                        if output_fpath.is_file():\n",
    "                            log_file.write(f'WARN:{img_fname} was already downloaded, skipping\\n')\n",
    "                            break\n",
    "                        try:\n",
    "                            resp2 = requests.get(img_url, timeout=5)\n",
    "                        except Exception as e:\n",
    "                            log_file.write(f'ERROR:{e}\\n')\n",
    "                        if resp2.ok:\n",
    "                            try:\n",
    "                                img = Image.open(BytesIO(resp2.content))\n",
    "                                img.save(output_fpath)\n",
    "                                success = True\n",
    "                                n_downloaded += 1\n",
    "                                log_file.write(f'INFO:Retrieved {resp2.url}\\n')\n",
    "                            except:\n",
    "                                log_file.write(f'WARN:Could not read or save image from {resp2.url}\\n')\n",
    "                            break\n",
    "                        else:\n",
    "                            log_file.write(f'WARN:Could not reach {resp2.url}\\n')\n",
    "                if not success:\n",
    "                    log_file.write(f'WARN:Could not find an image within 5 minutes of {str(my_datetime)}\\n')\n",
    "            else:\n",
    "                log_file.write(f'WARN:Could not reach {month_url}\\n')\n",
    "\n",
    "\n",
    "def download_from_log(source_log: FlexPath, \n",
    "                      save_to: FlexPath) -> None:\n",
    "    \"\"\"\n",
    "    ----------\n",
    "    Parameters\n",
    "    ----------\n",
    "    source_log: The log file to get image URLs from.\n",
    "    save_to: The directory to save images to.\n",
    "    \n",
    "    ----------\n",
    "    Returns\n",
    "    ----------\n",
    "    None.\n",
    "    \"\"\"\n",
    "    # Check that the directory we're saving to exists\n",
    "    if type(save_to) is not Path:\n",
    "        save_dir = Path(save_to)\n",
    "    else:\n",
    "        save_dir = save_to\n",
    "    if not save_dir.is_dir():\n",
    "        os.mkdir(save_dir)\n",
    "    \n",
    "    # Configure logger\n",
    "    log_filename = f'{datetime.now().isoformat().split(\".\")[0].replace(\":\", \"-\")}.log'\n",
    "    log_filepath = save_dir.joinpath(log_filename)\n",
    "    \n",
    "    # Read URLs from the source log\n",
    "    img_urls = []\n",
    "    with open(source_log, 'r') as f:\n",
    "        for line in f:\n",
    "            if line.startswith('INFO:Retrieved '):\n",
    "                url = line.split(' ')[1].strip()\n",
    "                img_urls.append(url)\n",
    "    \n",
    "    # Download images\n",
    "    with open(log_filepath, 'a') as f:\n",
    "        f.write(f'INFO:Read {len(img_urls)} image URLs from {str(source_log)}\\n')\n",
    "        for url in img_urls:\n",
    "            try:\n",
    "                resp = requests.get(url, timeout=5)\n",
    "            except:\n",
    "                f.write('ERROR:Request timed out\\n')\n",
    "                break\n",
    "            if resp.ok:\n",
    "                try:\n",
    "                    img_fname = url.split('/')[-1]\n",
    "                    output_fpath = save_dir.joinpath(img_fname)\n",
    "                    img = Image.open(BytesIO(resp.content))\n",
    "                    img.save(output_fpath)\n",
    "                    f.write(f'INFO:Retrieved {resp.url}\\n')\n",
    "                except:\n",
    "                    f.write(f'WARN:Could not read or save image from {resp.url}\\n')\n",
    "            else:\n",
    "                f.write(f'ERROR:Bad response for {resp.url}\\n')\n",
    "            \n",
    "                \n",
    "                \n",
    "def label_images_in_notebook(site_name: str, \n",
    "                             categories: List[str],\n",
    "                             img_dir: FlexPath, \n",
    "                             save_to: FlexPath) -> None:\n",
    "    \"\"\"\n",
    "    ----------\n",
    "    Parameters\n",
    "    ----------\n",
    "    site_name: The name of the site.\n",
    "    categories: A list of unique labels. When labeling images, you can type\n",
    "        either the full label name or its index. E.g., if your labels\n",
    "        are ['cat', 'dog'], when given a picture of a cat, you can\n",
    "        type either 'cat' or '0'.\n",
    "    img_dir: A directory containing images to be labeled. Assumes all images\n",
    "        are jpg.\n",
    "    save_to: The path of the file to write the labels out to.\n",
    "    \n",
    "    ----------\n",
    "    Returns\n",
    "    ----------\n",
    "    None\n",
    "    \n",
    "    ----------\n",
    "    Example\n",
    "    ----------\n",
    "    >>> label_images('canadaojp', ['too dark', 'snow', 'no snow'], \\\n",
    "        'my_photos', 'my_photos/labels.csv')\n",
    "    \"\"\"\n",
    "    # Check that the image directory exists\n",
    "    if type(img_dir) is not Path:\n",
    "        img_dir = Path(img_dir)\n",
    "    assert img_dir.is_dir()\n",
    "    \n",
    "    # Check for uniqueness of image categories\n",
    "    assert len(list(set(categories))) == len(categories), \\\n",
    "        'Non-unique categories detected'\n",
    "    \n",
    "    # Interactively label images\n",
    "    timestamps, labels = [], []\n",
    "    i = 0\n",
    "    for img_fpath in img_dir.glob('*.jpg'):\n",
    "        img = plt.imread(img_fpath)\n",
    "        plt.imshow(img)\n",
    "        plt.pause(0.0001) # https://stackoverflow.com/questions/12670101/matplotlib-ion-function-fails-to-be-interactive\n",
    "        assigned_label = None\n",
    "        print(f'Picture {i}')\n",
    "        while assigned_label not in categories:\n",
    "            assigned_label = input('Label: ')\n",
    "            try:\n",
    "                if int(assigned_label) >= 0 and int(assigned_label) < len(categories):\n",
    "                    assigned_label = categories[int(assigned_label)]\n",
    "                    break\n",
    "            except:\n",
    "                pass\n",
    "        ts_arr = img_fpath.stem.split('_')\n",
    "        ts = '-'.join(ts_arr[1:4])\n",
    "        hms = ts_arr[-1]\n",
    "        ts += f' {hms[:2]}:{hms[2:4]}:{hms[4:]}'\n",
    "        timestamps.append(ts)\n",
    "        labels.append(assigned_label)\n",
    "        i += 1\n",
    "    \n",
    "    # Save annotations to file\n",
    "    df = pd.DataFrame(zip(timestamps, labels), columns=['timestamp', 'label'])\n",
    "    with open(save_to, 'w+') as f:\n",
    "        f.write(f'# Site: {img_dir.stem if site_name is None else site_name}\\n')\n",
    "        f.write('# Categories:\\n')\n",
    "        for i, cat in enumerate(categories):\n",
    "            f.write(f'# {i}. {cat}\\n')\n",
    "    df.to_csv(save_to, mode='a', line_terminator='\\n', index=False)\n",
    "    \n",
    "    \n",
    "def label_images_via_subdir(site_name: str,\n",
    "                            categories: List[str],\n",
    "                            img_dir: FlexPath, \n",
    "                            save_to: FlexPath) -> None:\n",
    "    \"\"\"\n",
    "    ----------\n",
    "    Parameters\n",
    "    ----------\n",
    "    site_name: The name of the site.\n",
    "    categories: A list of unique labels. These should match the names of \n",
    "        the image subdirectories.\n",
    "    img_dir: The directory containing the image subdirectories.\n",
    "    save_to: Where to save the annotations file.\n",
    "    \n",
    "    ---------\n",
    "    Returns\n",
    "    ---------\n",
    "    None.\n",
    "    \"\"\"\n",
    "    # Check that the image directory exists\n",
    "    if type(img_dir) is not Path:\n",
    "        img_dir = Path(img_dir)\n",
    "    assert img_dir.is_dir()\n",
    "    \n",
    "    # Check that the category subdirectories exist\n",
    "    dircats = []\n",
    "    for cat in categories:\n",
    "        dircat = img_dir.joinpath(Path(cat))\n",
    "        dircats.append(dircat)\n",
    "        if not dircat.exists() or not dircat.is_dir():\n",
    "            os.mkdir(dircat)\n",
    "            \n",
    "    # Await user acknowledgement\n",
    "    input('Move images into the appropriate sub-directory then press any key to continue.')\n",
    "    \n",
    "    # Create annotations file\n",
    "    timestamps = []\n",
    "    for dircat in dircats:\n",
    "        timestamps_subarr = []\n",
    "        for img_fpath in dircat.glob('*.jpg'):\n",
    "            ts_arr = img_fpath.stem.split('_')\n",
    "            ts = '-'.join(ts_arr[1:4])\n",
    "            hms = ts_arr[-1]\n",
    "            ts += f' {hms[:2]}:{hms[2:4]}:{hms[4:]}'\n",
    "            timestamps_subarr.append(ts)\n",
    "        timestamps.append(timestamps_subarr)\n",
    "    df = pd.DataFrame(zip(timestamps, categories), columns=['timestamp', 'label']).explode('timestamp')\n",
    "    with open(save_to, 'w+') as f:\n",
    "        f.write(f'# Site: {img_dir.stem if site_name is None else site_name}\\n')\n",
    "        f.write('# Categories:\\n')\n",
    "        for i, cat in enumerate(categories):\n",
    "            f.write(f'# {i}. {cat}\\n')\n",
    "    df.to_csv(save_to, mode='a', line_terminator='\\n', index=False)\n",
    "    \n",
    "    # Flatten directory (i.e., pull all images out of the subdirectories\n",
    "    # back into their original directory)\n",
    "    for item in img_dir.glob('*'):\n",
    "        if item.is_dir():\n",
    "            for subitem in sorted(item.glob('*')):\n",
    "                new_path = Path(subitem.resolve().parent.parent).joinpath(subitem.name)\n",
    "                subitem.rename(new_path)\n",
    "\n",
    "    \n",
    "def read_annotations(ann_file: FlexPath) -> pd.DataFrame:\n",
    "    \"\"\"\n",
    "    -----------\n",
    "    Parameters\n",
    "    -----------\n",
    "    ann_file: The annotation file's path, as a string or a Path object.\n",
    "        The annotation file should be in the same format as that which is \n",
    "        returned by label_images_in_notebook or label_images_via_subdir.\n",
    "    \n",
    "    -----------\n",
    "    Returns\n",
    "    -----------\n",
    "    A Pandas DataFrame containing the annotations.\n",
    "    \"\"\"    \n",
    "    # Extract meta information\n",
    "    site_name = pd.read_csv(ann_file, nrows=1, header=None)[0].tolist()[0].split('# Site: ')[1]\n",
    "    labels_dict = {}\n",
    "    with open(ann_file, 'r') as f:\n",
    "        start_reading = False\n",
    "        for line in f:\n",
    "            if start_reading:\n",
    "                if line[0] != '#':\n",
    "                    break\n",
    "                else:\n",
    "                    int_label, str_label = line[1:].split('. ')\n",
    "                    int_label = int(int_label)\n",
    "                    str_label = str_label.strip()\n",
    "                    labels_dict[str_label] = int_label\n",
    "            if line == '# Categories:\\n':\n",
    "                start_reading = True\n",
    "    \n",
    "    # Sort timestamps\n",
    "    df = pd.read_csv(ann_file, comment='#')\n",
    "    df.set_index('timestamp', inplace=True)\n",
    "    df.sort_index(inplace=True)\n",
    "    \n",
    "    # Encode the labels as integers\n",
    "    df['label'] = df['label'].astype('category')\n",
    "    df['int_label'] = [labels_dict[x] for x in df['label']]\n",
    "    \n",
    "    # Create image file names from timestamps\n",
    "    img_name_col = []\n",
    "    for ts in df.index:\n",
    "        year = ts[:4]\n",
    "        month = ts[5:7]\n",
    "        day = ts[8:10]\n",
    "        hms = ts.split(' ')[1].replace(':', '')\n",
    "        img_name_col.append(f'{site_name}_{year}_{month}_{day}_{hms}.jpg')\n",
    "    df['img_name'] = img_name_col\n",
    "    \n",
    "    return df"
   ]
  },
  {
   "cell_type": "markdown",
   "id": "f20bdb7a",
   "metadata": {},
   "source": [
    "## Dataset and Data module"
   ]
  },
  {
   "cell_type": "code",
   "execution_count": 3,
   "id": "d3aa7588",
   "metadata": {},
   "outputs": [],
   "source": [
    "class PhenocamImageDataset(Dataset):\n",
    "    def __init__(self, img_dir, ann_file, transform=None, target_transform=None):\n",
    "        \"\"\"\n",
    "        ----------\n",
    "        Parameters\n",
    "        ----------\n",
    "        img_dir: The directory where all the images are contained.\n",
    "        ann_file: The file path of the annotations file for the images in img_dir.\n",
    "            See read_annotations().\n",
    "        transform: The transform to apply to images.\n",
    "        target_transform: The transform to apply to image labels.\n",
    "        \"\"\"\n",
    "        df = read_annotations(ann_file)\n",
    "        self.img_labels = df[['img_name', 'int_label']].reset_index(drop=True)\n",
    "        self.img_dir = img_dir\n",
    "        self.transform = transform\n",
    "        self.target_transform = target_transform\n",
    "        \n",
    "    def __len__(self):\n",
    "        return len(self.img_labels)\n",
    "    \n",
    "    def __getitem__(self, idx):\n",
    "        img_path = os.path.join(self.img_dir, self.img_labels.iloc[idx, 0])\n",
    "        img = read_image(img_path) / 255\n",
    "        label = self.img_labels.iloc[idx, 1]\n",
    "        if self.transform:\n",
    "            img = self.transform(img)\n",
    "        if self.target_transform:\n",
    "            label = self.target_transform(label)\n",
    "        return img, label\n",
    "    \n",
    "\n",
    "class PhenoCamDataModule(pl.LightningDataModule):\n",
    "    def __init__(self, \n",
    "                 site_name: str, \n",
    "                 train_dir: Union[str, Path], \n",
    "                 train_anns: Union[str, Path],\n",
    "                 test_dir: Union[str, Path],\n",
    "                 test_anns: Union[str, Path],\n",
    "                 batch_size: Optional[int] = 16) -> None:\n",
    "        \"\"\"\n",
    "        ----------\n",
    "        Parameters\n",
    "        ----------\n",
    "        site_name: The name of the Phenocam site this data module is for.\n",
    "        train_dir: The directory containing the train images.\n",
    "        train_anns: The path to the train annotations.\n",
    "        test_dir: The directory containing the test images.\n",
    "        test_anns: The path to the test annotations.\n",
    "        batch_size: The batch size for the data module. (Default is 16).\n",
    "        \n",
    "        ----------\n",
    "        Returns\n",
    "        ----------\n",
    "        None.\n",
    "        \"\"\"\n",
    "        super().__init__()\n",
    "        \n",
    "        self.site_name = site_name\n",
    "        self.train_dir = train_dir\n",
    "        self.train_annotations = train_anns\n",
    "        self.test_dir = test_dir\n",
    "        self.test_annotations = test_anns\n",
    "        self.batch_size = batch_size\n",
    "        \n",
    "        # Augmentation policy for training set        \n",
    "        self.aug_transform = transforms.Compose([\n",
    "            transforms.Resize(224, interpolation=3),\n",
    "            transforms.RandomApply([transforms.GaussianBlur(3)]),\n",
    "            transforms.Normalize(IMAGENET_DEFAULT_MEAN, IMAGENET_DEFAULT_STD)\n",
    "        ])\n",
    "        # I once tried applying other augmentation steps in between\n",
    "        # resizing and blurring but found that these greatly reduced\n",
    "        # accuracy on the canadaOBS site - often lead to NaN loss.\n",
    "        \n",
    "        # Preprocessing steps applied to test data\n",
    "        self.std_transform = transforms.Compose([\n",
    "            transforms.Resize(224, interpolation=3),\n",
    "            transforms.Normalize(IMAGENET_DEFAULT_MEAN, IMAGENET_DEFAULT_STD)\n",
    "        ])        \n",
    "        \n",
    "    def prepare_data(self, \n",
    "                     train_download_args: Optional[dict] = None, \n",
    "                     train_label_args: Optional[dict] = None,\n",
    "                     test_download_args: Optional[dict] = None,\n",
    "                     test_label_args: Optional[dict] = None) -> None: \n",
    "        \"\"\"\n",
    "        ----------\n",
    "        Parameters\n",
    "        ----------\n",
    "        train_download_args: Arguments for downloading train images. See download().\n",
    "        train_label_args: Arguments for labeling train images. Needs to have a key\n",
    "            called 'method' which has two valid values: 'in notebook' and 'via subdir'.\n",
    "            If method is 'in_notebook', then the other keys should match the parameters\n",
    "            required by label_images_in_notebook(). If the method is 'via_subdir', then\n",
    "            the other keys should match the parameters required by\n",
    "            label_images_via_subdir().\n",
    "        test_download_args: Arguments for downloading test images. See download().\n",
    "        test_label_args: Argument for labeling test images. See the note for \n",
    "            train_label_args.\n",
    "            \n",
    "        ----------\n",
    "        Returns\n",
    "        ----------\n",
    "        None.\n",
    "        \n",
    "        ----------\n",
    "        Example\n",
    "        ----------\n",
    "        >>> train_download_args = dict(\n",
    "            site_name='vindeln2',\n",
    "            dates=get_site_dates('vindeln2'),\n",
    "            save_to='train_dir',\n",
    "            n_photos=120)\n",
    "        >>> train_label_args = dict(\n",
    "            method='in notebook',\n",
    "            site_name='vindeln2'\n",
    "            categories=['no snow', 'too dark', 'snow']\n",
    "            img_dir='train_dir'\n",
    "            save_to='train_dir/annotations.csv')\n",
    "        >>> test_download_args = dict(\n",
    "            site_name='vindeln2', # the train and test sites must be the same\n",
    "            dates=get_site_dates('vindeln2'),\n",
    "            save_to='test_dir',\n",
    "            n_photos=30)\n",
    "        >>> test_label_args = dict(\n",
    "            method='via subdir',\n",
    "            site_name='vindeln2',\n",
    "            categories=['no snow', 'too dark', 'snow'] # the order of the categories must be preserved\n",
    "            img_dir='test_dir',\n",
    "            save_to='test_dir/annotations.csv')\n",
    "        >>> prepare_data(train_download_args, \n",
    "                         train_label_args,\n",
    "                         test_download_args,\n",
    "                         test_label_args)\n",
    "        \"\"\"\n",
    "        # Download and/or label train data\n",
    "        if train_download_args:\n",
    "            assert train_download_args['site_name'] == self.site_name\n",
    "            assert train_download_args['save_to'] == self.train_dir\n",
    "            print('Downloading train data')\n",
    "            download(**train_download_args)\n",
    "        if train_label_args:\n",
    "            assert train_label_args['img_dir'] == self.train_dir\n",
    "            assert train_label_args['save_to'] == self.train_annotations\n",
    "            print('Labeling train data')\n",
    "            if train_label_args['method'] == 'in notebook':\n",
    "                del train_label_args['method']\n",
    "                label_images_in_notebook(**train_label_args)\n",
    "            elif train_label_args['method'] == 'via subdir':\n",
    "                del train_label_args['method']\n",
    "                label_images_via_subdir(**train_label_args)\n",
    "            \n",
    "        # Download and/or label test data\n",
    "        if test_download_args:\n",
    "            assert test_download_args['site_name'] == self.site_name\n",
    "            assert test_download_args['save_to'] == self.test_dir\n",
    "            print('Downloading test data')\n",
    "            download(**test_download_args)\n",
    "        if test_label_args:\n",
    "            assert test_label_args['img_dir'] == self.test_dir\n",
    "            assert test_label_args['save_to'] == self.test_annotations\n",
    "            print('Labeling test data')\n",
    "            if test_label_args['method'] == 'in notebook':\n",
    "                del test_label_args['method']\n",
    "                label_images_in_notebook(**test_label_args)\n",
    "            elif test_label_args['method'] == 'via subdir':\n",
    "                del test_label_args['method']\n",
    "                label_images_via_subdir(**test_label_args)\n",
    "        \n",
    "    def setup(self, stage: Optional[str] = None):\n",
    "        \"\"\"\n",
    "        ----------\n",
    "        Parameters\n",
    "        ----------\n",
    "        stage: If the stage is 'fit', the train data is split 70/30 into train and validation\n",
    "            sets. The augmented transformation policy is applied to the images. If the stage is\n",
    "            'test', the test dataset is loaded and the standard transformation is applied to\n",
    "            the images. (Default is None, in which case, the train, validation, and test\n",
    "            datasets are all loaded.)\n",
    "            \n",
    "        ----------\n",
    "        Returns\n",
    "        ----------\n",
    "        None.\n",
    "        \"\"\"\n",
    "        if stage in ('fit', None):\n",
    "            img_dataset = PhenocamImageDataset(self.train_dir, self.train_annotations, transform=self.aug_transform)\n",
    "            train_size = round(len(img_dataset) * 0.7)\n",
    "            val_size = len(img_dataset) - train_size\n",
    "            self.img_train, self.img_val = random_split(img_dataset, [train_size, val_size])\n",
    "            self.dims = self.img_train[0][0].shape\n",
    "        if stage in ('test', None):\n",
    "            self.img_test = PhenocamImageDataset(self.test_dir, self.test_annotations, transform=self.std_transform)\n",
    "            self.dims = getattr(self, 'dims', self.img_test[0][0].shape)\n",
    "            \n",
    "    def train_dataloader(self):\n",
    "        return DataLoader(self.img_train, batch_size=self.batch_size)\n",
    "    \n",
    "    def val_dataloader(self):\n",
    "        return DataLoader(self.img_val, batch_size=self.batch_size)\n",
    "    \n",
    "    def test_dataloader(self):\n",
    "        return DataLoader(self.img_test, batch_size=self.batch_size)\n",
    "    \n",
    "    def predict_dataloader(self):\n",
    "        return DataLoader(self.img_test, batch_size=self.batch_size)\n",
    "    \n",
    "    def get_categories(self) -> List[str]:\n",
    "        \"\"\" \n",
    "        ----------\n",
    "        Returns\n",
    "        ----------\n",
    "        A list of the image categories, ordered according to their\n",
    "        integer encoding.\n",
    "        \"\"\"\n",
    "        train_categories = []\n",
    "        with open(self.train_annotations, 'r') as f:\n",
    "            start_reading = False\n",
    "            for line in f:\n",
    "                if start_reading:\n",
    "                    if line[0] != '#':\n",
    "                        break\n",
    "                    else:\n",
    "                        _, str_label = line[1:].split('. ')\n",
    "                        str_label = str_label.strip()\n",
    "                        train_categories.append(str_label)\n",
    "                if line == '# Categories:\\n':\n",
    "                    start_reading = True\n",
    "\n",
    "        test_categories = []\n",
    "        with open(self.test_annotations, 'r') as f:\n",
    "            start_reading = False\n",
    "            for line in f:\n",
    "                if start_reading:\n",
    "                    if line[0] != '#':\n",
    "                        break\n",
    "                    else:\n",
    "                        _, str_label = line[1:].split('. ')\n",
    "                        str_label = str_label.strip()\n",
    "                        test_categories.append(str_label)\n",
    "                if line == '# Categories:\\n':\n",
    "                    start_reading = True\n",
    "                    \n",
    "        assert train_categories == test_categories\n",
    "        return train_categories"
   ]
  },
  {
   "cell_type": "markdown",
   "id": "299fda27",
   "metadata": {},
   "source": [
    "## Model"
   ]
  },
  {
   "cell_type": "code",
   "execution_count": 4,
   "id": "89bbdc43",
   "metadata": {},
   "outputs": [],
   "source": [
    "class PhenoCamResNet(pl.LightningModule):\n",
    "    def __init__(self, \n",
    "                 n_classes: int, \n",
    "                 lr: Optional[float] = 2e-4) -> None:\n",
    "        \"\"\"\n",
    "        ----------\n",
    "        Parameters\n",
    "        ----------\n",
    "        n_classes: The number of classes to identify.\n",
    "        lr: The learning rate. (Default is 2e-4, which I empirically found to produce\n",
    "            good results.)\n",
    "            \n",
    "        ----------\n",
    "        Returns\n",
    "        ----------\n",
    "        None.\n",
    "        \"\"\"\n",
    "        super().__init__()\n",
    "        \n",
    "        self.save_hyperparameters()\n",
    "        self.lr = lr # Leaving this here in case we want to do auto LR tuning in the future\n",
    "\n",
    "        # Initialize a pretrained Resnet18\n",
    "        backbone = models.resnet18(pretrained=True)\n",
    "        n_filters = backbone.fc.in_features\n",
    "        layers = list(backbone.children())[:-1]\n",
    "        \n",
    "        # Freeze the feature extraction layers\n",
    "        self.feature_extractor = nn.Sequential(*layers)\n",
    "        self.feature_extractor.eval()\n",
    "        for param in self.feature_extractor.parameters():\n",
    "            param.requires_grad = False\n",
    "\n",
    "        # Use results of pre-trained feature extractor to classify\n",
    "        self.classifier = nn.Linear(n_filters, n_classes)\n",
    "\n",
    "    def forward(self, x):\n",
    "        x = self.feature_extractor(x)\n",
    "        x = x.view(x.size(0), -1)\n",
    "        with torch.no_grad():\n",
    "            z = self.classifier(x)\n",
    "            z = F.log_softmax(z, dim=1) \n",
    "        return z\n",
    "    \n",
    "    def training_step(self, batch, batch_idx):\n",
    "        x, y = batch\n",
    "        x = self.feature_extractor(x)\n",
    "        x = x.view(x.size(0), -1)\n",
    "        z = self.classifier(x)\n",
    "        z = F.log_softmax(z, dim=1)\n",
    "        loss = F.cross_entropy(z, y)\n",
    "        self.log('train_loss', loss)\n",
    "        return loss\n",
    "    \n",
    "    def evaluate(self, batch, stage=None):\n",
    "        x, y = batch\n",
    "        x = self.feature_extractor(x)\n",
    "        x = x.view(x.size(0), -1)\n",
    "        with torch.no_grad():\n",
    "            z = self.classifier(x)\n",
    "            z = F.log_softmax(z, dim=1)\n",
    "        loss = F.cross_entropy(z, y)\n",
    "        preds = torch.argmax(z, dim=1)\n",
    "        acc = accuracy(preds, y)\n",
    "        \n",
    "        if stage:\n",
    "            self.log(f'{stage}_loss', loss, prog_bar=True)\n",
    "            self.log(f'{stage}_acc', acc, prog_bar=True)\n",
    "    \n",
    "    def validation_step(self, batch, batch_idx):\n",
    "        self.evaluate(batch, 'val')\n",
    "        \n",
    "    def test_step(self, batch, batch_idx):\n",
    "        self.evaluate(batch, 'test')\n",
    "\n",
    "    def configure_optimizers(self):\n",
    "        optimizer = torch.optim.Adam(self.parameters(), lr=self.lr)\n",
    "        return optimizer"
   ]
  },
  {
   "cell_type": "markdown",
   "id": "10cdf2c6",
   "metadata": {},
   "source": [
    "## Inference on select image"
   ]
  },
  {
   "cell_type": "code",
   "execution_count": 5,
   "id": "11157eff",
   "metadata": {},
   "outputs": [],
   "source": [
    "def classify_online(model: PhenoCamResNet,\n",
    "                    categories: List[str],\n",
    "                    img_url: str) -> Tuple[np.ndarray, str]:\n",
    "    \"\"\"\n",
    "    ----------\n",
    "    Parameters\n",
    "    ----------\n",
    "    model: The model to use.\n",
    "    categories: A list of the image categories.\n",
    "    img_url: The URL of the image to run classification on.\n",
    "    \n",
    "    ----------\n",
    "    Returns\n",
    "    ----------\n",
    "    A 2-tuple where the first element is the image at img_url as a NumPy\n",
    "    array and the second element is the predicted label for this image.\n",
    "    \n",
    "    ----------\n",
    "    Example\n",
    "    ----------\n",
    "    >>> model = PhenoCamResNet()\n",
    "    >>> categories = ['too dark', 'no snow', 'snow']\n",
    "    >>> url = 'https://phenocam.sr.unh.edu/data/latest/canadaOBS.jpg'\n",
    "    >>> classify_online(model, categories, url)\n",
    "    ([some_np_array], 'snow')\n",
    "    \"\"\"\n",
    "    try:\n",
    "        resp = requests.get(img_url, timeout=5)\n",
    "    except:\n",
    "        print('Request timed out')\n",
    "    if resp.ok:\n",
    "        img = Image.open(BytesIO(resp.content))\n",
    "        np_img = np.array(img)\n",
    "        x = transforms.ToTensor()(img)\n",
    "        dm = PhenoCamDataModule('dummy_site_name',\n",
    "                                'dummy_train_dir',\n",
    "                                'dummy_train_anns',\n",
    "                                'dummy_test_dir',\n",
    "                                'dummy_test_anns')\n",
    "        x = dm.std_transform(x.unsqueeze(0))\n",
    "        z = model(x)\n",
    "        pred = categories[torch.argmax(z, dim=1)]\n",
    "        return (np_img, pred)\n",
    "    else:\n",
    "        print('Error occurred')\n",
    "    return None\n",
    "\n",
    "def classify_offline(model: PhenoCamResNet,\n",
    "                     categories: List[str],\n",
    "                     img_path: FlexPath) -> Tuple[np.ndarray, str]:\n",
    "    \"\"\"\n",
    "    ----------\n",
    "    Parameters\n",
    "    ----------\n",
    "    model: The model to use.\n",
    "    categories: A list of the image categories.\n",
    "    img_path: The path of the image to run classification on.\n",
    "    \n",
    "    ----------\n",
    "    Returns\n",
    "    ----------\n",
    "    A 2-tuple where the first element is the image at img_url as a NumPy\n",
    "    array and the second element is the predicted label for this image.\n",
    "    \n",
    "    ----------\n",
    "    Example\n",
    "    ----------\n",
    "    >>> model = PhenoCamResNet()\n",
    "    >>> categories = ['too dark', 'no snow', 'snow']\n",
    "    >>> img_path = 'canadaOBS_test/test_img.jpg'\n",
    "    >>> classify_offline(model, categories, img_path)\n",
    "    ([some_np_array], 'too dark') \n",
    "    \"\"\"\n",
    "    dm = PhenoCamDataModule('dummy_site_name',\n",
    "                            'dummy_train_dir',\n",
    "                            'dummy_train_anns',\n",
    "                            'dummy_test_dir',\n",
    "                            'dummy_test_anns')\n",
    "    x = dm.std_transform((read_image(img_path) / 255).unsqueeze(0))\n",
    "    z = model(x)\n",
    "    pred = categories[torch.argmax(z, dim=1)]\n",
    "    return pred\n"
   ]
  },
  {
   "cell_type": "markdown",
   "id": "3cd3fe42",
   "metadata": {},
   "source": [
    "## Wrapper functions\n",
    "You *could* do everything yourself, but here's some snappy functions to do things fast!"
   ]
  },
  {
   "cell_type": "code",
   "execution_count": 6,
   "id": "1f4672db",
   "metadata": {},
   "outputs": [],
   "source": [
    "def train_model_with_new_data(site_name: str,\n",
    "                              label_method: str,\n",
    "                              categories: List[str],\n",
    "                              n_train: int,\n",
    "                              n_test: int,\n",
    "                              deterministic: Optional[bool] = False) -> PhenoCamResNet:\n",
    "    \"\"\"\n",
    "    ----------\n",
    "    Parameters\n",
    "    ----------\n",
    "    site_name: The name of the PhenoCam site you want to train a model for.\n",
    "    label_method: How do you want to label images? (\"in notebook\" or \"via subdir\")\n",
    "    categories: What categories should this model learn? (e.g., \"too dark\", \"no snow\", \"snow\")\n",
    "    n_train: The total number of train images to download.\n",
    "    n_test: The total number of test images to download.\n",
    "    deterministic: Whether the trainer should have the deterministic flag enabled.\n",
    "\n",
    "    ----------\n",
    "    Returns\n",
    "    ----------\n",
    "    The best model from training.\n",
    "    \"\"\"\n",
    "    ##############################\n",
    "    # 1. Download and label data #\n",
    "    ##############################\n",
    "    valid_label_methods = ['in notebook', 'via subdir']\n",
    "    assert label_method in valid_label_methods\n",
    "\n",
    "    train_dir = f'{site_name}_train'\n",
    "    test_dir = f'{site_name}_test'\n",
    "    train_annotations = f'{train_dir}/annotations.csv'\n",
    "    test_annotations = f'{test_dir}/annotations.csv'\n",
    "\n",
    "    dm_args = dict(\n",
    "        site_name=site_name,\n",
    "        train_dir=train_dir,\n",
    "        train_anns=train_annotations,\n",
    "        test_dir=test_dir,\n",
    "        test_anns=test_annotations\n",
    "    )\n",
    "    dm = PhenoCamDataModule(**dm_args)\n",
    "\n",
    "    # Train data arguments\n",
    "    train_download_args = dict(\n",
    "        site_name=site_name,\n",
    "        dates=get_site_dates(site_name),\n",
    "        save_to=train_dir,\n",
    "        n_photos=n_train\n",
    "    )\n",
    "    # Train label arguments\n",
    "    train_label_args = dict(\n",
    "        site_name=site_name,\n",
    "        categories=categories,\n",
    "        img_dir=train_dir,\n",
    "        save_to=train_annotations,\n",
    "        method=label_method\n",
    "    )\n",
    "\n",
    "    # Test data arguments\n",
    "    test_download_args = dict(\n",
    "        site_name=site_name,\n",
    "        dates=get_site_dates(site_name),\n",
    "        save_to=test_dir,\n",
    "        n_photos=n_test\n",
    "    )\n",
    "    # Test label arguments\n",
    "    test_label_args = dict(\n",
    "        site_name=site_name,\n",
    "        categories=categories,\n",
    "        img_dir=test_dir,\n",
    "        save_to=test_annotations,\n",
    "        method=label_method\n",
    "    )\n",
    "\n",
    "    dm.prepare_data(train_download_args,\n",
    "                    train_label_args,\n",
    "                    test_download_args,\n",
    "                    test_label_args)\n",
    "\n",
    "    ##################\n",
    "    # 2. Train model #\n",
    "    ##################\n",
    "    dm.setup(stage='fit')\n",
    "    model = PhenoCamResNet(n_classes=len(categories))\n",
    "    logger = TensorBoardLogger(\n",
    "        save_dir=os.getcwd(), name=f'{site_name}_lightning_logs')\n",
    "    trainer = pl.Trainer(gpus=1, log_every_n_steps=6,\n",
    "                         gradient_clip_val=0.01, max_epochs=50, logger=logger, deterministic=deterministic)\n",
    "    trainer.fit(model, dm)\n",
    "\n",
    "    #####################\n",
    "    # 3. Evaluate model #\n",
    "    #####################\n",
    "    dm.setup(stage='test')\n",
    "    trainer.test(datamodule=dm, ckpt_path='best')\n",
    "\n",
    "    ######################\n",
    "    # 4. Note best model #\n",
    "    ######################\n",
    "    best_model_path = trainer.checkpoint_callback.best_model_path\n",
    "    best_models_csv = Path('best_model_paths.csv')\n",
    "    if not best_models_csv.exists():\n",
    "        with open(best_models_csv, 'w') as f:\n",
    "            f.write('timestamp,site_name,best_model\\n')\n",
    "    with open(best_models_csv, 'a') as f:\n",
    "        f.write(f'{datetime.now().isoformat()},{site_name},{best_model_path}\\n')\n",
    "\n",
    "    ########################\n",
    "    # 5. Return best model #\n",
    "    ########################\n",
    "    best_model = model.load_from_checkpoint(best_model_path)\n",
    "    best_model.freeze()\n",
    "    print(f'Path of best model: {best_model_path}')\n",
    "    return best_model\n",
    "\n",
    "\n",
    "def train_model_with_existing_data(site_name: str,\n",
    "                                   train_dir: FlexPath,\n",
    "                                   test_dir: FlexPath,\n",
    "                                   deterministic: Optional[bool] = False) -> PhenoCamResNet:\n",
    "    \"\"\"\n",
    "    ----------\n",
    "    Parameters\n",
    "    ----------\n",
    "    site_name: Site name.\n",
    "    train_dir: Directory with training images and labels.\n",
    "    test_dir: Directory with testing images and labels.\n",
    "    deterministic: Whether the trainer should have the deterministic flag enabled.\n",
    "\n",
    "    ----------\n",
    "    Returns\n",
    "    ----------\n",
    "    The best model from training.\n",
    "    \"\"\"\n",
    "\n",
    "    ###################\n",
    "    # 1. Prepare data #\n",
    "    ###################\n",
    "    if type(train_dir) is str:\n",
    "        train_dir = Path(train_dir)\n",
    "    if type(test_dir) is str:\n",
    "        test_dir = Path(test_dir)\n",
    "    dm_args = dict(\n",
    "        site_name=site_name,\n",
    "        train_dir=train_dir,\n",
    "        train_anns=train_dir.joinpath('annotations.csv'),\n",
    "        test_dir=test_dir,\n",
    "        test_anns=test_dir.joinpath('annotations.csv')\n",
    "    )\n",
    "    dm = PhenoCamDataModule(**dm_args)\n",
    "    dm.prepare_data()\n",
    "\n",
    "    ##################\n",
    "    # 2. Train model #\n",
    "    ##################\n",
    "    dm.setup(stage='fit')\n",
    "    model = PhenoCamResNet(n_classes=len(dm.get_categories()))\n",
    "    logger = TensorBoardLogger(\n",
    "        save_dir=os.getcwd(), name=f'{site_name}_lightning_logs')\n",
    "    trainer = pl.Trainer(gpus=1, log_every_n_steps=6,\n",
    "                         gradient_clip_val=0.01, max_epochs=50, logger=logger, deterministic=deterministic)\n",
    "    trainer.fit(model, dm)\n",
    "\n",
    "    #####################\n",
    "    # 3. Evaluate model #\n",
    "    #####################\n",
    "    dm.setup(stage='test')\n",
    "    trainer.test(datamodule=dm, ckpt_path='best')\n",
    "\n",
    "    ######################\n",
    "    # 4. Note best model #\n",
    "    ######################\n",
    "    best_model_path = trainer.checkpoint_callback.best_model_path\n",
    "    best_models_csv = Path('best_model_paths.csv')\n",
    "    if not best_models_csv.exists():\n",
    "        with open(best_models_csv, 'w') as f:\n",
    "            f.write('timestamp,site_name,best_model\\n')\n",
    "    with open(best_models_csv, 'a') as f:\n",
    "        f.write(f'{datetime.now().isoformat()},{site_name},{best_model_path}\\n')\n",
    "\n",
    "    ########################\n",
    "    # 5. Return best model #\n",
    "    ########################\n",
    "    best_model = model.load_from_checkpoint(best_model_path)\n",
    "    best_model.freeze()\n",
    "    print(f'Path of best model: {best_model_path}')\n",
    "    return best_model\n",
    "\n",
    "\n",
    "def load_model_from_file(model_path: FlexPath, n_classes: int) -> PhenoCamResNet:\n",
    "    \"\"\"\n",
    "    ----------\n",
    "    Parameters\n",
    "    ----------\n",
    "    model_path: The filepath where the model is stored.\n",
    "    n_classes: The number of classes this model predicts.\n",
    "\n",
    "    ----------\n",
    "    Returns\n",
    "    ----------\n",
    "    The loaded model.\n",
    "    \"\"\"\n",
    "    model = PhenoCamResNet(n_classes).load_from_checkpoint(model_path)\n",
    "    model.freeze()\n",
    "    return model\n",
    "\n",
    "\n",
    "def run_model_offline(model: PhenoCamResNet, \n",
    "                      site_name: str, \n",
    "                      categories: List[str], \n",
    "                      img_dir: FlexPath) -> None:\n",
    "    \"\"\"\n",
    "    ----------\n",
    "    Description\n",
    "    ----------\n",
    "    Gets predicted labels for all the images in img_dir and writes\n",
    "    them to img_dir/predictions.csv.\n",
    "    \n",
    "    ----------\n",
    "    Parameters\n",
    "    ----------\n",
    "    model: The model to use.\n",
    "    site_name: The name of the site.\n",
    "    categories: The string labels.\n",
    "    img_dir: The directory containing the images to classify.\n",
    "    \n",
    "    ----------\n",
    "    Returns\n",
    "    ----------\n",
    "    None.\n",
    "    \"\"\"\n",
    "    \n",
    "    ######################\n",
    "    # 1. Get predictions #\n",
    "    ######################\n",
    "    if type(img_dir) is str:\n",
    "        img_dir = Path(img_dir)\n",
    "    timestamps, predictions = [], []\n",
    "    for img_path in img_dir.glob('*.jpg'):\n",
    "        ts_arr = img_path.stem.split('_')\n",
    "        ts = '-'.join(ts_arr[1:4])\n",
    "        hms = ts_arr[-1]\n",
    "        ts += f' {hms[:2]}:{hms[2:4]}:{hms[4:]}'\n",
    "        timestamps.append(ts)\n",
    "        predictions.append(classify_offline(model, categories, str(img_path)))\n",
    "        \n",
    "    ###################\n",
    "    # 2. Save to file #\n",
    "    ###################\n",
    "    df = pd.DataFrame(zip(timestamps, predictions), columns=['timestamp', 'label'])\n",
    "    save_to = img_dir.joinpath('predictions.csv')\n",
    "    with open(save_to, 'w+') as f:\n",
    "        f.write(f'# Site: {site_name}\\n')\n",
    "        f.write('# Categories:\\n')\n",
    "        for i, cat in enumerate(categories):\n",
    "            f.write(f'# {i}. {cat}\\n')\n",
    "    df.to_csv(save_to, mode='a', line_terminator='\\n', index=False)\n",
    "    \n",
    "    \n",
    "def run_model_online(model: PhenoCamResNet, \n",
    "                     site_name: str, \n",
    "                     categories: List[str], \n",
    "                     img_url: str) -> None:\n",
    "    \"\"\"\n",
    "    ----------\n",
    "    Description\n",
    "    ----------\n",
    "    Gets predicted label for the image pointed to by img_url, \n",
    "    and displays them in this notebook.\n",
    "    \n",
    "    ----------\n",
    "    Parameters\n",
    "    ----------\n",
    "    model: The model to use.\n",
    "    site_name: The name of the site.\n",
    "    categories: The string labels.\n",
    "    img_url: The URL of the image for which you want a prediction.\n",
    "    \n",
    "    ----------\n",
    "    Returns\n",
    "    ----------\n",
    "    None.\n",
    "    \"\"\"    \n",
    "    ######################\n",
    "    # 1. Get predictions #\n",
    "    ######################\n",
    "    img, pred = classify_online(model, categories, img_url)\n",
    "        \n",
    "    ###################\n",
    "    # 2. Print result #\n",
    "    ###################\n",
    "    plt.imshow(img)\n",
    "    print(pred)"
   ]
  },
  {
   "cell_type": "markdown",
   "id": "49c79a25",
   "metadata": {},
   "source": [
    "# Experiments"
   ]
  },
  {
   "cell_type": "markdown",
   "id": "22e5435d",
   "metadata": {},
   "source": [
    "## canadaojp"
   ]
  },
  {
   "cell_type": "markdown",
   "id": "731d1f36",
   "metadata": {},
   "source": [
    "The below cell should not be re-run."
   ]
  },
  {
   "cell_type": "code",
   "execution_count": 7,
   "id": "c2947a86",
   "metadata": {
    "scrolled": false
   },
   "outputs": [
    {
     "name": "stdout",
     "output_type": "stream",
     "text": [
      "Downloading train data\n",
      "Labeling train data\n",
      "Move images into the appropriate sub-directory then press any key to continue.\n",
      "Downloading test data\n",
      "Labeling test data\n",
      "Move images into the appropriate sub-directory then press any key to continue.\n"
     ]
    },
    {
     "name": "stderr",
     "output_type": "stream",
     "text": [
      "GPU available: True, used: True\n",
      "TPU available: False, using: 0 TPU cores\n",
      "IPU available: False, using: 0 IPUs\n",
      "C:\\Users\\jewik\\anaconda3\\envs\\lightning\\lib\\site-packages\\pytorch_lightning\\core\\datamodule.py:423: LightningDeprecationWarning: DataModule.setup has already been called, so it will not be called again. In v1.6 this behavior will change to always call DataModule.setup.\n",
      "  rank_zero_deprecation(\n",
      "LOCAL_RANK: 0 - CUDA_VISIBLE_DEVICES: [0]\n",
      "\n",
      "  | Name              | Type       | Params\n",
      "-------------------------------------------------\n",
      "0 | feature_extractor | Sequential | 11.2 M\n",
      "1 | classifier        | Linear     | 1.5 K \n",
      "-------------------------------------------------\n",
      "1.5 K     Trainable params\n",
      "11.2 M    Non-trainable params\n",
      "11.2 M    Total params\n",
      "44.712    Total estimated model params size (MB)\n"
     ]
    },
    {
     "data": {
      "application/vnd.jupyter.widget-view+json": {
       "model_id": "",
       "version_major": 2,
       "version_minor": 0
      },
      "text/plain": [
       "Validation sanity check: 0it [00:00, ?it/s]"
      ]
     },
     "metadata": {},
     "output_type": "display_data"
    },
    {
     "name": "stderr",
     "output_type": "stream",
     "text": [
      "C:\\Users\\jewik\\anaconda3\\envs\\lightning\\lib\\site-packages\\pytorch_lightning\\trainer\\data_loading.py:105: UserWarning: The dataloader, val dataloader 0, does not have many workers which may be a bottleneck. Consider increasing the value of the `num_workers` argument` (try 12 which is the number of cpus on this machine) in the `DataLoader` init to improve performance.\n",
      "  rank_zero_warn(\n",
      "C:\\Users\\jewik\\anaconda3\\envs\\lightning\\lib\\site-packages\\pytorch_lightning\\trainer\\data_loading.py:105: UserWarning: The dataloader, train dataloader, does not have many workers which may be a bottleneck. Consider increasing the value of the `num_workers` argument` (try 12 which is the number of cpus on this machine) in the `DataLoader` init to improve performance.\n",
      "  rank_zero_warn(\n"
     ]
    },
    {
     "data": {
      "application/vnd.jupyter.widget-view+json": {
       "model_id": "fdd6bf9774b7465aa87558f7d5f9ab88",
       "version_major": 2,
       "version_minor": 0
      },
      "text/plain": [
       "Training: -1it [00:00, ?it/s]"
      ]
     },
     "metadata": {},
     "output_type": "display_data"
    },
    {
     "data": {
      "application/vnd.jupyter.widget-view+json": {
       "model_id": "",
       "version_major": 2,
       "version_minor": 0
      },
      "text/plain": [
       "Validating: 0it [00:00, ?it/s]"
      ]
     },
     "metadata": {},
     "output_type": "display_data"
    },
    {
     "data": {
      "application/vnd.jupyter.widget-view+json": {
       "model_id": "",
       "version_major": 2,
       "version_minor": 0
      },
      "text/plain": [
       "Validating: 0it [00:00, ?it/s]"
      ]
     },
     "metadata": {},
     "output_type": "display_data"
    },
    {
     "data": {
      "application/vnd.jupyter.widget-view+json": {
       "model_id": "",
       "version_major": 2,
       "version_minor": 0
      },
      "text/plain": [
       "Validating: 0it [00:00, ?it/s]"
      ]
     },
     "metadata": {},
     "output_type": "display_data"
    },
    {
     "data": {
      "application/vnd.jupyter.widget-view+json": {
       "model_id": "",
       "version_major": 2,
       "version_minor": 0
      },
      "text/plain": [
       "Validating: 0it [00:00, ?it/s]"
      ]
     },
     "metadata": {},
     "output_type": "display_data"
    },
    {
     "data": {
      "application/vnd.jupyter.widget-view+json": {
       "model_id": "",
       "version_major": 2,
       "version_minor": 0
      },
      "text/plain": [
       "Validating: 0it [00:00, ?it/s]"
      ]
     },
     "metadata": {},
     "output_type": "display_data"
    },
    {
     "data": {
      "application/vnd.jupyter.widget-view+json": {
       "model_id": "",
       "version_major": 2,
       "version_minor": 0
      },
      "text/plain": [
       "Validating: 0it [00:00, ?it/s]"
      ]
     },
     "metadata": {},
     "output_type": "display_data"
    },
    {
     "data": {
      "application/vnd.jupyter.widget-view+json": {
       "model_id": "",
       "version_major": 2,
       "version_minor": 0
      },
      "text/plain": [
       "Validating: 0it [00:00, ?it/s]"
      ]
     },
     "metadata": {},
     "output_type": "display_data"
    },
    {
     "data": {
      "application/vnd.jupyter.widget-view+json": {
       "model_id": "",
       "version_major": 2,
       "version_minor": 0
      },
      "text/plain": [
       "Validating: 0it [00:00, ?it/s]"
      ]
     },
     "metadata": {},
     "output_type": "display_data"
    },
    {
     "data": {
      "application/vnd.jupyter.widget-view+json": {
       "model_id": "",
       "version_major": 2,
       "version_minor": 0
      },
      "text/plain": [
       "Validating: 0it [00:00, ?it/s]"
      ]
     },
     "metadata": {},
     "output_type": "display_data"
    },
    {
     "data": {
      "application/vnd.jupyter.widget-view+json": {
       "model_id": "",
       "version_major": 2,
       "version_minor": 0
      },
      "text/plain": [
       "Validating: 0it [00:00, ?it/s]"
      ]
     },
     "metadata": {},
     "output_type": "display_data"
    },
    {
     "data": {
      "application/vnd.jupyter.widget-view+json": {
       "model_id": "",
       "version_major": 2,
       "version_minor": 0
      },
      "text/plain": [
       "Validating: 0it [00:00, ?it/s]"
      ]
     },
     "metadata": {},
     "output_type": "display_data"
    },
    {
     "data": {
      "application/vnd.jupyter.widget-view+json": {
       "model_id": "",
       "version_major": 2,
       "version_minor": 0
      },
      "text/plain": [
       "Validating: 0it [00:00, ?it/s]"
      ]
     },
     "metadata": {},
     "output_type": "display_data"
    },
    {
     "data": {
      "application/vnd.jupyter.widget-view+json": {
       "model_id": "",
       "version_major": 2,
       "version_minor": 0
      },
      "text/plain": [
       "Validating: 0it [00:00, ?it/s]"
      ]
     },
     "metadata": {},
     "output_type": "display_data"
    },
    {
     "data": {
      "application/vnd.jupyter.widget-view+json": {
       "model_id": "",
       "version_major": 2,
       "version_minor": 0
      },
      "text/plain": [
       "Validating: 0it [00:00, ?it/s]"
      ]
     },
     "metadata": {},
     "output_type": "display_data"
    },
    {
     "data": {
      "application/vnd.jupyter.widget-view+json": {
       "model_id": "",
       "version_major": 2,
       "version_minor": 0
      },
      "text/plain": [
       "Validating: 0it [00:00, ?it/s]"
      ]
     },
     "metadata": {},
     "output_type": "display_data"
    },
    {
     "data": {
      "application/vnd.jupyter.widget-view+json": {
       "model_id": "",
       "version_major": 2,
       "version_minor": 0
      },
      "text/plain": [
       "Validating: 0it [00:00, ?it/s]"
      ]
     },
     "metadata": {},
     "output_type": "display_data"
    },
    {
     "data": {
      "application/vnd.jupyter.widget-view+json": {
       "model_id": "",
       "version_major": 2,
       "version_minor": 0
      },
      "text/plain": [
       "Validating: 0it [00:00, ?it/s]"
      ]
     },
     "metadata": {},
     "output_type": "display_data"
    },
    {
     "data": {
      "application/vnd.jupyter.widget-view+json": {
       "model_id": "",
       "version_major": 2,
       "version_minor": 0
      },
      "text/plain": [
       "Validating: 0it [00:00, ?it/s]"
      ]
     },
     "metadata": {},
     "output_type": "display_data"
    },
    {
     "data": {
      "application/vnd.jupyter.widget-view+json": {
       "model_id": "",
       "version_major": 2,
       "version_minor": 0
      },
      "text/plain": [
       "Validating: 0it [00:00, ?it/s]"
      ]
     },
     "metadata": {},
     "output_type": "display_data"
    },
    {
     "data": {
      "application/vnd.jupyter.widget-view+json": {
       "model_id": "",
       "version_major": 2,
       "version_minor": 0
      },
      "text/plain": [
       "Validating: 0it [00:00, ?it/s]"
      ]
     },
     "metadata": {},
     "output_type": "display_data"
    },
    {
     "data": {
      "application/vnd.jupyter.widget-view+json": {
       "model_id": "",
       "version_major": 2,
       "version_minor": 0
      },
      "text/plain": [
       "Validating: 0it [00:00, ?it/s]"
      ]
     },
     "metadata": {},
     "output_type": "display_data"
    },
    {
     "data": {
      "application/vnd.jupyter.widget-view+json": {
       "model_id": "",
       "version_major": 2,
       "version_minor": 0
      },
      "text/plain": [
       "Validating: 0it [00:00, ?it/s]"
      ]
     },
     "metadata": {},
     "output_type": "display_data"
    },
    {
     "data": {
      "application/vnd.jupyter.widget-view+json": {
       "model_id": "",
       "version_major": 2,
       "version_minor": 0
      },
      "text/plain": [
       "Validating: 0it [00:00, ?it/s]"
      ]
     },
     "metadata": {},
     "output_type": "display_data"
    },
    {
     "data": {
      "application/vnd.jupyter.widget-view+json": {
       "model_id": "",
       "version_major": 2,
       "version_minor": 0
      },
      "text/plain": [
       "Validating: 0it [00:00, ?it/s]"
      ]
     },
     "metadata": {},
     "output_type": "display_data"
    },
    {
     "data": {
      "application/vnd.jupyter.widget-view+json": {
       "model_id": "",
       "version_major": 2,
       "version_minor": 0
      },
      "text/plain": [
       "Validating: 0it [00:00, ?it/s]"
      ]
     },
     "metadata": {},
     "output_type": "display_data"
    },
    {
     "data": {
      "application/vnd.jupyter.widget-view+json": {
       "model_id": "",
       "version_major": 2,
       "version_minor": 0
      },
      "text/plain": [
       "Validating: 0it [00:00, ?it/s]"
      ]
     },
     "metadata": {},
     "output_type": "display_data"
    },
    {
     "data": {
      "application/vnd.jupyter.widget-view+json": {
       "model_id": "",
       "version_major": 2,
       "version_minor": 0
      },
      "text/plain": [
       "Validating: 0it [00:00, ?it/s]"
      ]
     },
     "metadata": {},
     "output_type": "display_data"
    },
    {
     "data": {
      "application/vnd.jupyter.widget-view+json": {
       "model_id": "",
       "version_major": 2,
       "version_minor": 0
      },
      "text/plain": [
       "Validating: 0it [00:00, ?it/s]"
      ]
     },
     "metadata": {},
     "output_type": "display_data"
    },
    {
     "data": {
      "application/vnd.jupyter.widget-view+json": {
       "model_id": "",
       "version_major": 2,
       "version_minor": 0
      },
      "text/plain": [
       "Validating: 0it [00:00, ?it/s]"
      ]
     },
     "metadata": {},
     "output_type": "display_data"
    },
    {
     "data": {
      "application/vnd.jupyter.widget-view+json": {
       "model_id": "",
       "version_major": 2,
       "version_minor": 0
      },
      "text/plain": [
       "Validating: 0it [00:00, ?it/s]"
      ]
     },
     "metadata": {},
     "output_type": "display_data"
    },
    {
     "data": {
      "application/vnd.jupyter.widget-view+json": {
       "model_id": "",
       "version_major": 2,
       "version_minor": 0
      },
      "text/plain": [
       "Validating: 0it [00:00, ?it/s]"
      ]
     },
     "metadata": {},
     "output_type": "display_data"
    },
    {
     "data": {
      "application/vnd.jupyter.widget-view+json": {
       "model_id": "",
       "version_major": 2,
       "version_minor": 0
      },
      "text/plain": [
       "Validating: 0it [00:00, ?it/s]"
      ]
     },
     "metadata": {},
     "output_type": "display_data"
    },
    {
     "data": {
      "application/vnd.jupyter.widget-view+json": {
       "model_id": "",
       "version_major": 2,
       "version_minor": 0
      },
      "text/plain": [
       "Validating: 0it [00:00, ?it/s]"
      ]
     },
     "metadata": {},
     "output_type": "display_data"
    },
    {
     "data": {
      "application/vnd.jupyter.widget-view+json": {
       "model_id": "",
       "version_major": 2,
       "version_minor": 0
      },
      "text/plain": [
       "Validating: 0it [00:00, ?it/s]"
      ]
     },
     "metadata": {},
     "output_type": "display_data"
    },
    {
     "data": {
      "application/vnd.jupyter.widget-view+json": {
       "model_id": "",
       "version_major": 2,
       "version_minor": 0
      },
      "text/plain": [
       "Validating: 0it [00:00, ?it/s]"
      ]
     },
     "metadata": {},
     "output_type": "display_data"
    },
    {
     "data": {
      "application/vnd.jupyter.widget-view+json": {
       "model_id": "",
       "version_major": 2,
       "version_minor": 0
      },
      "text/plain": [
       "Validating: 0it [00:00, ?it/s]"
      ]
     },
     "metadata": {},
     "output_type": "display_data"
    },
    {
     "data": {
      "application/vnd.jupyter.widget-view+json": {
       "model_id": "",
       "version_major": 2,
       "version_minor": 0
      },
      "text/plain": [
       "Validating: 0it [00:00, ?it/s]"
      ]
     },
     "metadata": {},
     "output_type": "display_data"
    },
    {
     "data": {
      "application/vnd.jupyter.widget-view+json": {
       "model_id": "",
       "version_major": 2,
       "version_minor": 0
      },
      "text/plain": [
       "Validating: 0it [00:00, ?it/s]"
      ]
     },
     "metadata": {},
     "output_type": "display_data"
    },
    {
     "data": {
      "application/vnd.jupyter.widget-view+json": {
       "model_id": "",
       "version_major": 2,
       "version_minor": 0
      },
      "text/plain": [
       "Validating: 0it [00:00, ?it/s]"
      ]
     },
     "metadata": {},
     "output_type": "display_data"
    },
    {
     "data": {
      "application/vnd.jupyter.widget-view+json": {
       "model_id": "",
       "version_major": 2,
       "version_minor": 0
      },
      "text/plain": [
       "Validating: 0it [00:00, ?it/s]"
      ]
     },
     "metadata": {},
     "output_type": "display_data"
    },
    {
     "data": {
      "application/vnd.jupyter.widget-view+json": {
       "model_id": "",
       "version_major": 2,
       "version_minor": 0
      },
      "text/plain": [
       "Validating: 0it [00:00, ?it/s]"
      ]
     },
     "metadata": {},
     "output_type": "display_data"
    },
    {
     "data": {
      "application/vnd.jupyter.widget-view+json": {
       "model_id": "",
       "version_major": 2,
       "version_minor": 0
      },
      "text/plain": [
       "Validating: 0it [00:00, ?it/s]"
      ]
     },
     "metadata": {},
     "output_type": "display_data"
    },
    {
     "data": {
      "application/vnd.jupyter.widget-view+json": {
       "model_id": "",
       "version_major": 2,
       "version_minor": 0
      },
      "text/plain": [
       "Validating: 0it [00:00, ?it/s]"
      ]
     },
     "metadata": {},
     "output_type": "display_data"
    },
    {
     "data": {
      "application/vnd.jupyter.widget-view+json": {
       "model_id": "",
       "version_major": 2,
       "version_minor": 0
      },
      "text/plain": [
       "Validating: 0it [00:00, ?it/s]"
      ]
     },
     "metadata": {},
     "output_type": "display_data"
    },
    {
     "data": {
      "application/vnd.jupyter.widget-view+json": {
       "model_id": "",
       "version_major": 2,
       "version_minor": 0
      },
      "text/plain": [
       "Validating: 0it [00:00, ?it/s]"
      ]
     },
     "metadata": {},
     "output_type": "display_data"
    },
    {
     "data": {
      "application/vnd.jupyter.widget-view+json": {
       "model_id": "",
       "version_major": 2,
       "version_minor": 0
      },
      "text/plain": [
       "Validating: 0it [00:00, ?it/s]"
      ]
     },
     "metadata": {},
     "output_type": "display_data"
    },
    {
     "data": {
      "application/vnd.jupyter.widget-view+json": {
       "model_id": "",
       "version_major": 2,
       "version_minor": 0
      },
      "text/plain": [
       "Validating: 0it [00:00, ?it/s]"
      ]
     },
     "metadata": {},
     "output_type": "display_data"
    },
    {
     "data": {
      "application/vnd.jupyter.widget-view+json": {
       "model_id": "",
       "version_major": 2,
       "version_minor": 0
      },
      "text/plain": [
       "Validating: 0it [00:00, ?it/s]"
      ]
     },
     "metadata": {},
     "output_type": "display_data"
    },
    {
     "data": {
      "application/vnd.jupyter.widget-view+json": {
       "model_id": "",
       "version_major": 2,
       "version_minor": 0
      },
      "text/plain": [
       "Validating: 0it [00:00, ?it/s]"
      ]
     },
     "metadata": {},
     "output_type": "display_data"
    },
    {
     "data": {
      "application/vnd.jupyter.widget-view+json": {
       "model_id": "",
       "version_major": 2,
       "version_minor": 0
      },
      "text/plain": [
       "Validating: 0it [00:00, ?it/s]"
      ]
     },
     "metadata": {},
     "output_type": "display_data"
    },
    {
     "name": "stderr",
     "output_type": "stream",
     "text": [
      "LOCAL_RANK: 0 - CUDA_VISIBLE_DEVICES: [0]\n",
      "C:\\Users\\jewik\\anaconda3\\envs\\lightning\\lib\\site-packages\\pytorch_lightning\\trainer\\data_loading.py:105: UserWarning: The dataloader, test dataloader 0, does not have many workers which may be a bottleneck. Consider increasing the value of the `num_workers` argument` (try 12 which is the number of cpus on this machine) in the `DataLoader` init to improve performance.\n",
      "  rank_zero_warn(\n"
     ]
    },
    {
     "data": {
      "application/vnd.jupyter.widget-view+json": {
       "model_id": "d0490fdbaab041e7a2fcf850ce76b008",
       "version_major": 2,
       "version_minor": 0
      },
      "text/plain": [
       "Testing: 0it [00:00, ?it/s]"
      ]
     },
     "metadata": {},
     "output_type": "display_data"
    },
    {
     "name": "stdout",
     "output_type": "stream",
     "text": [
      "--------------------------------------------------------------------------------\n",
      "DATALOADER:0 TEST RESULTS\n",
      "{'test_acc': 1.0, 'test_loss': 0.07134168595075607}\n",
      "--------------------------------------------------------------------------------\n",
      "Path of best model: C:\\Users\\jewik\\GitRepos\\snow-classifier\\canadaojp_lightning_logs\\version_0\\checkpoints\\epoch=49-step=299.ckpt\n"
     ]
    }
   ],
   "source": [
    "site_name = 'canadaojp'\n",
    "label_method = 'via subdir'\n",
    "categories = ['too dark', 'snow', 'no snow']\n",
    "n_train = 120\n",
    "n_test = 30\n",
    "\n",
    "model = train_model_with_new_data(site_name, label_method, categories, n_train, n_test, deterministic=True)"
   ]
  },
  {
   "cell_type": "markdown",
   "id": "314fad7c",
   "metadata": {},
   "source": [
    "To reproduce experimental results, we have to download the exact images used for training and testing. Run the below cell."
   ]
  },
  {
   "cell_type": "code",
   "execution_count": null,
   "id": "8d423f0a",
   "metadata": {},
   "outputs": [],
   "source": [
    "source_log = 'canadaojp_train/2021-09-09T15-45-15.log'\n",
    "target_directory = 'canadaojp_train'\n",
    "download_from_log(source_log, target_directory)\n",
    "\n",
    "source_log = 'canadaojp_test/2021-09-09T15-58-25.log'\n",
    "target_directory = 'canadaojp_test'\n",
    "download_from_log(source_log, target_directory)"
   ]
  },
  {
   "cell_type": "markdown",
   "id": "0df918f8",
   "metadata": {},
   "source": [
    "Then, we have to train the model with this data. Run the below cell."
   ]
  },
  {
   "cell_type": "code",
   "execution_count": null,
   "id": "32b9ac27",
   "metadata": {},
   "outputs": [],
   "source": [
    "site_name = 'canadaojp'\n",
    "train_dir = 'canadaojp_train'\n",
    "test_dir = 'canadaojp_test'\n",
    "\n",
    "model = train_model_with_existing_data(site_name, train_dir, test_dir, deterministic=True)"
   ]
  },
  {
   "cell_type": "markdown",
   "id": "0efa126e",
   "metadata": {},
   "source": [
    "## canadaOBS"
   ]
  },
  {
   "cell_type": "markdown",
   "id": "3a0eb4b3",
   "metadata": {},
   "source": [
    "The below cell should not be re-run."
   ]
  },
  {
   "cell_type": "code",
   "execution_count": 8,
   "id": "e3b51d0c",
   "metadata": {},
   "outputs": [
    {
     "name": "stdout",
     "output_type": "stream",
     "text": [
      "Downloading train data\n",
      "Labeling train data\n",
      "Move images into the appropriate sub-directory then press any key to continue.\n",
      "Downloading test data\n",
      "Labeling test data\n",
      "Move images into the appropriate sub-directory then press any key to continue.\n"
     ]
    },
    {
     "name": "stderr",
     "output_type": "stream",
     "text": [
      "GPU available: True, used: True\n",
      "TPU available: False, using: 0 TPU cores\n",
      "IPU available: False, using: 0 IPUs\n",
      "C:\\Users\\jewik\\anaconda3\\envs\\lightning\\lib\\site-packages\\pytorch_lightning\\core\\datamodule.py:423: LightningDeprecationWarning: DataModule.setup has already been called, so it will not be called again. In v1.6 this behavior will change to always call DataModule.setup.\n",
      "  rank_zero_deprecation(\n",
      "LOCAL_RANK: 0 - CUDA_VISIBLE_DEVICES: [0]\n",
      "\n",
      "  | Name              | Type       | Params\n",
      "-------------------------------------------------\n",
      "0 | feature_extractor | Sequential | 11.2 M\n",
      "1 | classifier        | Linear     | 1.5 K \n",
      "-------------------------------------------------\n",
      "1.5 K     Trainable params\n",
      "11.2 M    Non-trainable params\n",
      "11.2 M    Total params\n",
      "44.712    Total estimated model params size (MB)\n"
     ]
    },
    {
     "data": {
      "application/vnd.jupyter.widget-view+json": {
       "model_id": "",
       "version_major": 2,
       "version_minor": 0
      },
      "text/plain": [
       "Validation sanity check: 0it [00:00, ?it/s]"
      ]
     },
     "metadata": {},
     "output_type": "display_data"
    },
    {
     "name": "stderr",
     "output_type": "stream",
     "text": [
      "C:\\Users\\jewik\\anaconda3\\envs\\lightning\\lib\\site-packages\\pytorch_lightning\\trainer\\data_loading.py:105: UserWarning: The dataloader, val dataloader 0, does not have many workers which may be a bottleneck. Consider increasing the value of the `num_workers` argument` (try 12 which is the number of cpus on this machine) in the `DataLoader` init to improve performance.\n",
      "  rank_zero_warn(\n",
      "C:\\Users\\jewik\\anaconda3\\envs\\lightning\\lib\\site-packages\\pytorch_lightning\\trainer\\data_loading.py:105: UserWarning: The dataloader, train dataloader, does not have many workers which may be a bottleneck. Consider increasing the value of the `num_workers` argument` (try 12 which is the number of cpus on this machine) in the `DataLoader` init to improve performance.\n",
      "  rank_zero_warn(\n"
     ]
    },
    {
     "data": {
      "application/vnd.jupyter.widget-view+json": {
       "model_id": "3488ce9cf2e64687941b2bdc3ceebb84",
       "version_major": 2,
       "version_minor": 0
      },
      "text/plain": [
       "Training: -1it [00:00, ?it/s]"
      ]
     },
     "metadata": {},
     "output_type": "display_data"
    },
    {
     "data": {
      "application/vnd.jupyter.widget-view+json": {
       "model_id": "",
       "version_major": 2,
       "version_minor": 0
      },
      "text/plain": [
       "Validating: 0it [00:00, ?it/s]"
      ]
     },
     "metadata": {},
     "output_type": "display_data"
    },
    {
     "data": {
      "application/vnd.jupyter.widget-view+json": {
       "model_id": "",
       "version_major": 2,
       "version_minor": 0
      },
      "text/plain": [
       "Validating: 0it [00:00, ?it/s]"
      ]
     },
     "metadata": {},
     "output_type": "display_data"
    },
    {
     "data": {
      "application/vnd.jupyter.widget-view+json": {
       "model_id": "",
       "version_major": 2,
       "version_minor": 0
      },
      "text/plain": [
       "Validating: 0it [00:00, ?it/s]"
      ]
     },
     "metadata": {},
     "output_type": "display_data"
    },
    {
     "data": {
      "application/vnd.jupyter.widget-view+json": {
       "model_id": "",
       "version_major": 2,
       "version_minor": 0
      },
      "text/plain": [
       "Validating: 0it [00:00, ?it/s]"
      ]
     },
     "metadata": {},
     "output_type": "display_data"
    },
    {
     "data": {
      "application/vnd.jupyter.widget-view+json": {
       "model_id": "",
       "version_major": 2,
       "version_minor": 0
      },
      "text/plain": [
       "Validating: 0it [00:00, ?it/s]"
      ]
     },
     "metadata": {},
     "output_type": "display_data"
    },
    {
     "data": {
      "application/vnd.jupyter.widget-view+json": {
       "model_id": "",
       "version_major": 2,
       "version_minor": 0
      },
      "text/plain": [
       "Validating: 0it [00:00, ?it/s]"
      ]
     },
     "metadata": {},
     "output_type": "display_data"
    },
    {
     "data": {
      "application/vnd.jupyter.widget-view+json": {
       "model_id": "",
       "version_major": 2,
       "version_minor": 0
      },
      "text/plain": [
       "Validating: 0it [00:00, ?it/s]"
      ]
     },
     "metadata": {},
     "output_type": "display_data"
    },
    {
     "data": {
      "application/vnd.jupyter.widget-view+json": {
       "model_id": "",
       "version_major": 2,
       "version_minor": 0
      },
      "text/plain": [
       "Validating: 0it [00:00, ?it/s]"
      ]
     },
     "metadata": {},
     "output_type": "display_data"
    },
    {
     "data": {
      "application/vnd.jupyter.widget-view+json": {
       "model_id": "",
       "version_major": 2,
       "version_minor": 0
      },
      "text/plain": [
       "Validating: 0it [00:00, ?it/s]"
      ]
     },
     "metadata": {},
     "output_type": "display_data"
    },
    {
     "data": {
      "application/vnd.jupyter.widget-view+json": {
       "model_id": "",
       "version_major": 2,
       "version_minor": 0
      },
      "text/plain": [
       "Validating: 0it [00:00, ?it/s]"
      ]
     },
     "metadata": {},
     "output_type": "display_data"
    },
    {
     "data": {
      "application/vnd.jupyter.widget-view+json": {
       "model_id": "",
       "version_major": 2,
       "version_minor": 0
      },
      "text/plain": [
       "Validating: 0it [00:00, ?it/s]"
      ]
     },
     "metadata": {},
     "output_type": "display_data"
    },
    {
     "data": {
      "application/vnd.jupyter.widget-view+json": {
       "model_id": "",
       "version_major": 2,
       "version_minor": 0
      },
      "text/plain": [
       "Validating: 0it [00:00, ?it/s]"
      ]
     },
     "metadata": {},
     "output_type": "display_data"
    },
    {
     "data": {
      "application/vnd.jupyter.widget-view+json": {
       "model_id": "",
       "version_major": 2,
       "version_minor": 0
      },
      "text/plain": [
       "Validating: 0it [00:00, ?it/s]"
      ]
     },
     "metadata": {},
     "output_type": "display_data"
    },
    {
     "data": {
      "application/vnd.jupyter.widget-view+json": {
       "model_id": "",
       "version_major": 2,
       "version_minor": 0
      },
      "text/plain": [
       "Validating: 0it [00:00, ?it/s]"
      ]
     },
     "metadata": {},
     "output_type": "display_data"
    },
    {
     "data": {
      "application/vnd.jupyter.widget-view+json": {
       "model_id": "",
       "version_major": 2,
       "version_minor": 0
      },
      "text/plain": [
       "Validating: 0it [00:00, ?it/s]"
      ]
     },
     "metadata": {},
     "output_type": "display_data"
    },
    {
     "data": {
      "application/vnd.jupyter.widget-view+json": {
       "model_id": "",
       "version_major": 2,
       "version_minor": 0
      },
      "text/plain": [
       "Validating: 0it [00:00, ?it/s]"
      ]
     },
     "metadata": {},
     "output_type": "display_data"
    },
    {
     "data": {
      "application/vnd.jupyter.widget-view+json": {
       "model_id": "",
       "version_major": 2,
       "version_minor": 0
      },
      "text/plain": [
       "Validating: 0it [00:00, ?it/s]"
      ]
     },
     "metadata": {},
     "output_type": "display_data"
    },
    {
     "data": {
      "application/vnd.jupyter.widget-view+json": {
       "model_id": "",
       "version_major": 2,
       "version_minor": 0
      },
      "text/plain": [
       "Validating: 0it [00:00, ?it/s]"
      ]
     },
     "metadata": {},
     "output_type": "display_data"
    },
    {
     "data": {
      "application/vnd.jupyter.widget-view+json": {
       "model_id": "",
       "version_major": 2,
       "version_minor": 0
      },
      "text/plain": [
       "Validating: 0it [00:00, ?it/s]"
      ]
     },
     "metadata": {},
     "output_type": "display_data"
    },
    {
     "data": {
      "application/vnd.jupyter.widget-view+json": {
       "model_id": "",
       "version_major": 2,
       "version_minor": 0
      },
      "text/plain": [
       "Validating: 0it [00:00, ?it/s]"
      ]
     },
     "metadata": {},
     "output_type": "display_data"
    },
    {
     "data": {
      "application/vnd.jupyter.widget-view+json": {
       "model_id": "",
       "version_major": 2,
       "version_minor": 0
      },
      "text/plain": [
       "Validating: 0it [00:00, ?it/s]"
      ]
     },
     "metadata": {},
     "output_type": "display_data"
    },
    {
     "data": {
      "application/vnd.jupyter.widget-view+json": {
       "model_id": "",
       "version_major": 2,
       "version_minor": 0
      },
      "text/plain": [
       "Validating: 0it [00:00, ?it/s]"
      ]
     },
     "metadata": {},
     "output_type": "display_data"
    },
    {
     "data": {
      "application/vnd.jupyter.widget-view+json": {
       "model_id": "",
       "version_major": 2,
       "version_minor": 0
      },
      "text/plain": [
       "Validating: 0it [00:00, ?it/s]"
      ]
     },
     "metadata": {},
     "output_type": "display_data"
    },
    {
     "data": {
      "application/vnd.jupyter.widget-view+json": {
       "model_id": "",
       "version_major": 2,
       "version_minor": 0
      },
      "text/plain": [
       "Validating: 0it [00:00, ?it/s]"
      ]
     },
     "metadata": {},
     "output_type": "display_data"
    },
    {
     "data": {
      "application/vnd.jupyter.widget-view+json": {
       "model_id": "",
       "version_major": 2,
       "version_minor": 0
      },
      "text/plain": [
       "Validating: 0it [00:00, ?it/s]"
      ]
     },
     "metadata": {},
     "output_type": "display_data"
    },
    {
     "data": {
      "application/vnd.jupyter.widget-view+json": {
       "model_id": "",
       "version_major": 2,
       "version_minor": 0
      },
      "text/plain": [
       "Validating: 0it [00:00, ?it/s]"
      ]
     },
     "metadata": {},
     "output_type": "display_data"
    },
    {
     "data": {
      "application/vnd.jupyter.widget-view+json": {
       "model_id": "",
       "version_major": 2,
       "version_minor": 0
      },
      "text/plain": [
       "Validating: 0it [00:00, ?it/s]"
      ]
     },
     "metadata": {},
     "output_type": "display_data"
    },
    {
     "data": {
      "application/vnd.jupyter.widget-view+json": {
       "model_id": "",
       "version_major": 2,
       "version_minor": 0
      },
      "text/plain": [
       "Validating: 0it [00:00, ?it/s]"
      ]
     },
     "metadata": {},
     "output_type": "display_data"
    },
    {
     "data": {
      "application/vnd.jupyter.widget-view+json": {
       "model_id": "",
       "version_major": 2,
       "version_minor": 0
      },
      "text/plain": [
       "Validating: 0it [00:00, ?it/s]"
      ]
     },
     "metadata": {},
     "output_type": "display_data"
    },
    {
     "data": {
      "application/vnd.jupyter.widget-view+json": {
       "model_id": "",
       "version_major": 2,
       "version_minor": 0
      },
      "text/plain": [
       "Validating: 0it [00:00, ?it/s]"
      ]
     },
     "metadata": {},
     "output_type": "display_data"
    },
    {
     "data": {
      "application/vnd.jupyter.widget-view+json": {
       "model_id": "",
       "version_major": 2,
       "version_minor": 0
      },
      "text/plain": [
       "Validating: 0it [00:00, ?it/s]"
      ]
     },
     "metadata": {},
     "output_type": "display_data"
    },
    {
     "data": {
      "application/vnd.jupyter.widget-view+json": {
       "model_id": "",
       "version_major": 2,
       "version_minor": 0
      },
      "text/plain": [
       "Validating: 0it [00:00, ?it/s]"
      ]
     },
     "metadata": {},
     "output_type": "display_data"
    },
    {
     "data": {
      "application/vnd.jupyter.widget-view+json": {
       "model_id": "",
       "version_major": 2,
       "version_minor": 0
      },
      "text/plain": [
       "Validating: 0it [00:00, ?it/s]"
      ]
     },
     "metadata": {},
     "output_type": "display_data"
    },
    {
     "data": {
      "application/vnd.jupyter.widget-view+json": {
       "model_id": "",
       "version_major": 2,
       "version_minor": 0
      },
      "text/plain": [
       "Validating: 0it [00:00, ?it/s]"
      ]
     },
     "metadata": {},
     "output_type": "display_data"
    },
    {
     "data": {
      "application/vnd.jupyter.widget-view+json": {
       "model_id": "",
       "version_major": 2,
       "version_minor": 0
      },
      "text/plain": [
       "Validating: 0it [00:00, ?it/s]"
      ]
     },
     "metadata": {},
     "output_type": "display_data"
    },
    {
     "data": {
      "application/vnd.jupyter.widget-view+json": {
       "model_id": "",
       "version_major": 2,
       "version_minor": 0
      },
      "text/plain": [
       "Validating: 0it [00:00, ?it/s]"
      ]
     },
     "metadata": {},
     "output_type": "display_data"
    },
    {
     "data": {
      "application/vnd.jupyter.widget-view+json": {
       "model_id": "",
       "version_major": 2,
       "version_minor": 0
      },
      "text/plain": [
       "Validating: 0it [00:00, ?it/s]"
      ]
     },
     "metadata": {},
     "output_type": "display_data"
    },
    {
     "data": {
      "application/vnd.jupyter.widget-view+json": {
       "model_id": "",
       "version_major": 2,
       "version_minor": 0
      },
      "text/plain": [
       "Validating: 0it [00:00, ?it/s]"
      ]
     },
     "metadata": {},
     "output_type": "display_data"
    },
    {
     "data": {
      "application/vnd.jupyter.widget-view+json": {
       "model_id": "",
       "version_major": 2,
       "version_minor": 0
      },
      "text/plain": [
       "Validating: 0it [00:00, ?it/s]"
      ]
     },
     "metadata": {},
     "output_type": "display_data"
    },
    {
     "data": {
      "application/vnd.jupyter.widget-view+json": {
       "model_id": "",
       "version_major": 2,
       "version_minor": 0
      },
      "text/plain": [
       "Validating: 0it [00:00, ?it/s]"
      ]
     },
     "metadata": {},
     "output_type": "display_data"
    },
    {
     "data": {
      "application/vnd.jupyter.widget-view+json": {
       "model_id": "",
       "version_major": 2,
       "version_minor": 0
      },
      "text/plain": [
       "Validating: 0it [00:00, ?it/s]"
      ]
     },
     "metadata": {},
     "output_type": "display_data"
    },
    {
     "data": {
      "application/vnd.jupyter.widget-view+json": {
       "model_id": "",
       "version_major": 2,
       "version_minor": 0
      },
      "text/plain": [
       "Validating: 0it [00:00, ?it/s]"
      ]
     },
     "metadata": {},
     "output_type": "display_data"
    },
    {
     "data": {
      "application/vnd.jupyter.widget-view+json": {
       "model_id": "",
       "version_major": 2,
       "version_minor": 0
      },
      "text/plain": [
       "Validating: 0it [00:00, ?it/s]"
      ]
     },
     "metadata": {},
     "output_type": "display_data"
    },
    {
     "data": {
      "application/vnd.jupyter.widget-view+json": {
       "model_id": "",
       "version_major": 2,
       "version_minor": 0
      },
      "text/plain": [
       "Validating: 0it [00:00, ?it/s]"
      ]
     },
     "metadata": {},
     "output_type": "display_data"
    },
    {
     "data": {
      "application/vnd.jupyter.widget-view+json": {
       "model_id": "",
       "version_major": 2,
       "version_minor": 0
      },
      "text/plain": [
       "Validating: 0it [00:00, ?it/s]"
      ]
     },
     "metadata": {},
     "output_type": "display_data"
    },
    {
     "data": {
      "application/vnd.jupyter.widget-view+json": {
       "model_id": "",
       "version_major": 2,
       "version_minor": 0
      },
      "text/plain": [
       "Validating: 0it [00:00, ?it/s]"
      ]
     },
     "metadata": {},
     "output_type": "display_data"
    },
    {
     "data": {
      "application/vnd.jupyter.widget-view+json": {
       "model_id": "",
       "version_major": 2,
       "version_minor": 0
      },
      "text/plain": [
       "Validating: 0it [00:00, ?it/s]"
      ]
     },
     "metadata": {},
     "output_type": "display_data"
    },
    {
     "data": {
      "application/vnd.jupyter.widget-view+json": {
       "model_id": "",
       "version_major": 2,
       "version_minor": 0
      },
      "text/plain": [
       "Validating: 0it [00:00, ?it/s]"
      ]
     },
     "metadata": {},
     "output_type": "display_data"
    },
    {
     "data": {
      "application/vnd.jupyter.widget-view+json": {
       "model_id": "",
       "version_major": 2,
       "version_minor": 0
      },
      "text/plain": [
       "Validating: 0it [00:00, ?it/s]"
      ]
     },
     "metadata": {},
     "output_type": "display_data"
    },
    {
     "data": {
      "application/vnd.jupyter.widget-view+json": {
       "model_id": "",
       "version_major": 2,
       "version_minor": 0
      },
      "text/plain": [
       "Validating: 0it [00:00, ?it/s]"
      ]
     },
     "metadata": {},
     "output_type": "display_data"
    },
    {
     "name": "stderr",
     "output_type": "stream",
     "text": [
      "LOCAL_RANK: 0 - CUDA_VISIBLE_DEVICES: [0]\n",
      "C:\\Users\\jewik\\anaconda3\\envs\\lightning\\lib\\site-packages\\pytorch_lightning\\trainer\\data_loading.py:105: UserWarning: The dataloader, test dataloader 0, does not have many workers which may be a bottleneck. Consider increasing the value of the `num_workers` argument` (try 12 which is the number of cpus on this machine) in the `DataLoader` init to improve performance.\n",
      "  rank_zero_warn(\n"
     ]
    },
    {
     "data": {
      "application/vnd.jupyter.widget-view+json": {
       "model_id": "90d538ea4d14460e9cdb72c382d1952f",
       "version_major": 2,
       "version_minor": 0
      },
      "text/plain": [
       "Testing: 0it [00:00, ?it/s]"
      ]
     },
     "metadata": {},
     "output_type": "display_data"
    },
    {
     "name": "stdout",
     "output_type": "stream",
     "text": [
      "--------------------------------------------------------------------------------\n",
      "DATALOADER:0 TEST RESULTS\n",
      "{'test_acc': 0.8999999761581421, 'test_loss': 0.24399477243423462}\n",
      "--------------------------------------------------------------------------------\n",
      "Path of best model: C:\\Users\\jewik\\GitRepos\\snow-classifier\\canadaOBS_lightning_logs\\version_0\\checkpoints\\epoch=49-step=299.ckpt\n"
     ]
    }
   ],
   "source": [
    "site_name = 'canadaOBS'\n",
    "label_method = 'via subdir'\n",
    "categories = ['too dark', 'snow', 'no snow']\n",
    "n_train = 120\n",
    "n_test = 30\n",
    "\n",
    "model = train_model_with_new_data(site_name, label_method, categories, n_train, n_test, deterministic=True)"
   ]
  },
  {
   "cell_type": "markdown",
   "id": "6f7a52e7",
   "metadata": {},
   "source": [
    "To reproduce experimental results, we have to download the exact images used for training and testing. Run the below cell."
   ]
  },
  {
   "cell_type": "code",
   "execution_count": null,
   "id": "eb4327ea",
   "metadata": {},
   "outputs": [],
   "source": [
    "source_log = 'canadaOBS_train/2021-09-09T16-27-47.log'\n",
    "target_directory = 'canadaOBS_train'\n",
    "download_from_log(source_log, target_directory)\n",
    "\n",
    "source_log = 'canadaOBS_test/2021-09-09T16-35-15.log'\n",
    "target_directory = 'canadaOBS_test'\n",
    "download_from_log(source_log, target_directory)"
   ]
  },
  {
   "cell_type": "markdown",
   "id": "eb7b4755",
   "metadata": {},
   "source": [
    "Then, we have to train the model with this data. Run the below cell."
   ]
  },
  {
   "cell_type": "code",
   "execution_count": null,
   "id": "26b1ef02",
   "metadata": {},
   "outputs": [],
   "source": [
    "site_name = 'canadaOBS'\n",
    "train_dir = 'canadaOBS_train'\n",
    "test_dir = 'canadaOBS_test'\n",
    "\n",
    "model = train_model_with_existing_data(site_name, train_dir, test_dir, deterministic=True)"
   ]
  },
  {
   "cell_type": "markdown",
   "id": "5e3e9896",
   "metadata": {},
   "source": [
    "# Getting predictions"
   ]
  },
  {
   "cell_type": "markdown",
   "id": "7c451a94",
   "metadata": {},
   "source": [
    "An online prediction for the canadaOBS site."
   ]
  },
  {
   "cell_type": "code",
   "execution_count": 9,
   "id": "8e06daba",
   "metadata": {},
   "outputs": [
    {
     "name": "stdout",
     "output_type": "stream",
     "text": [
      "no snow\n"
     ]
    },
    {
     "data": {
      "image/png": "[encoded data removed]",
      "text/plain": [
       "<Figure size 432x288 with 1 Axes>"
      ]
     },
     "metadata": {
      "needs_background": "light"
     },
     "output_type": "display_data"
    }
   ],
   "source": [
    "model_path = 'canadaOBS_lightning_logs/version_0/checkpoints/epoch=49-step=299.ckpt'\n",
    "categories = ['too dark', 'snow', 'no snow'] # The order of categories should match the training order!\n",
    "n_classes = len(categories)\n",
    "model = load_model_from_file(model_path, n_classes)\n",
    "\n",
    "site_name = 'canadaOBS'\n",
    "url = 'https://phenocam.sr.unh.edu/data/latest/canadaOBS.jpg'\n",
    "\n",
    "run_model_online(model, site_name, categories, url)"
   ]
  },
  {
   "cell_type": "markdown",
   "id": "6e007e41",
   "metadata": {},
   "source": [
    "Offline predictions for the canadaOBS site."
   ]
  },
  {
   "cell_type": "code",
   "execution_count": 10,
   "id": "c6019e9e",
   "metadata": {},
   "outputs": [],
   "source": [
    "target_dir = 'canadaOBS_test'\n",
    "run_model_offline(model, site_name, categories, target_dir) # Creates canadaojp_test/predictions.csv"
   ]
  },
  {
   "cell_type": "markdown",
   "id": "656005a4",
   "metadata": {},
   "source": [
    "# Your code here\n",
    "To train a model, you can copy the example snippets from the above section and paste them in the below cell."
   ]
  },
  {
   "cell_type": "code",
   "execution_count": null,
   "id": "15ad609e",
   "metadata": {},
   "outputs": [],
   "source": []
  }
 ],
 "metadata": {
  "kernelspec": {
   "display_name": "Python 3 (ipykernel)",
   "language": "python",
   "name": "python3"
  },
  "language_info": {
   "codemirror_mode": {
    "name": "ipython",
    "version": 3
   },
   "file_extension": ".py",
   "mimetype": "text/x-python",
   "name": "python",
   "nbconvert_exporter": "python",
   "pygments_lexer": "ipython3",
   "version": "3.8.10"
  }
 },
 "nbformat": 4,
 "nbformat_minor": 5
}
